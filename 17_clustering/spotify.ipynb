{
 "cells": [
  {
   "cell_type": "markdown",
   "metadata": {},
   "source": [
    "### Clustering\n",
    "\n",
    "**OBJECTIVES**\n",
    "\n",
    "- Practice clustering with `sklearn`\n",
    "- Apply clustering to song data from spotify\n",
    "\n",
    "----\n",
    "*Question*: \n",
    "\n",
    "```\n",
    "Hi Jacob, when and if you have a chance, I have a question, in class we have talked about all the great things we can do in python like interactive folium maps, stats and plotting. Now I have a question say we make an analysis, and we want to share our analysis with others like executives that don’t code, do you have any recommendations of how to share the information?\n",
    "I was thinking like to add the information from code to like a website that is shared with people in the organization, or maybe I need to learn html, or SharePoint. Currently at work we use PowerBI, but when I tested Python script in PowerBI it didn’t seem to work for me, maybe it was the way I ran it, or most likely my configuration settings.\n",
    "```"
   ]
  },
  {
   "cell_type": "markdown",
   "metadata": {},
   "source": [
    "### Spotify "
   ]
  },
  {
   "cell_type": "code",
   "execution_count": 1,
   "metadata": {},
   "outputs": [],
   "source": [
    "import pandas as pd"
   ]
  },
  {
   "cell_type": "code",
   "execution_count": 2,
   "metadata": {},
   "outputs": [],
   "source": [
    "songs = pd.read_csv('data/spotify-songs.csv')"
   ]
  },
  {
   "cell_type": "code",
   "execution_count": 3,
   "metadata": {},
   "outputs": [
    {
     "name": "stdout",
     "output_type": "stream",
     "text": [
      "<class 'pandas.core.frame.DataFrame'>\n",
      "RangeIndex: 41106 entries, 0 to 41105\n",
      "Data columns (total 20 columns):\n",
      " #   Column            Non-Null Count  Dtype  \n",
      "---  ------            --------------  -----  \n",
      " 0   track             41106 non-null  object \n",
      " 1   artist            41106 non-null  object \n",
      " 2   uri               41106 non-null  object \n",
      " 3   danceability      41106 non-null  float64\n",
      " 4   energy            41106 non-null  float64\n",
      " 5   key               41106 non-null  int64  \n",
      " 6   loudness          41106 non-null  float64\n",
      " 7   mode              41106 non-null  int64  \n",
      " 8   speechiness       41106 non-null  float64\n",
      " 9   acousticness      41106 non-null  float64\n",
      " 10  instrumentalness  41106 non-null  float64\n",
      " 11  liveness          41106 non-null  float64\n",
      " 12  valence           41106 non-null  float64\n",
      " 13  tempo             41106 non-null  float64\n",
      " 14  duration_ms       41106 non-null  int64  \n",
      " 15  time_signature    41106 non-null  int64  \n",
      " 16  chorus_hit        41106 non-null  float64\n",
      " 17  sections          41106 non-null  int64  \n",
      " 18  hit_song          41106 non-null  int64  \n",
      " 19  decade            41106 non-null  object \n",
      "dtypes: float64(10), int64(6), object(4)\n",
      "memory usage: 6.3+ MB\n"
     ]
    }
   ],
   "source": [
    "songs.info()"
   ]
  },
  {
   "cell_type": "code",
   "execution_count": 4,
   "metadata": {},
   "outputs": [
    {
     "data": {
      "text/html": [
       "<div>\n",
       "<style scoped>\n",
       "    .dataframe tbody tr th:only-of-type {\n",
       "        vertical-align: middle;\n",
       "    }\n",
       "\n",
       "    .dataframe tbody tr th {\n",
       "        vertical-align: top;\n",
       "    }\n",
       "\n",
       "    .dataframe thead th {\n",
       "        text-align: right;\n",
       "    }\n",
       "</style>\n",
       "<table border=\"1\" class=\"dataframe\">\n",
       "  <thead>\n",
       "    <tr style=\"text-align: right;\">\n",
       "      <th></th>\n",
       "      <th>track</th>\n",
       "      <th>artist</th>\n",
       "      <th>uri</th>\n",
       "      <th>danceability</th>\n",
       "      <th>energy</th>\n",
       "      <th>key</th>\n",
       "      <th>loudness</th>\n",
       "      <th>mode</th>\n",
       "      <th>speechiness</th>\n",
       "      <th>acousticness</th>\n",
       "      <th>instrumentalness</th>\n",
       "      <th>liveness</th>\n",
       "      <th>valence</th>\n",
       "      <th>tempo</th>\n",
       "      <th>duration_ms</th>\n",
       "      <th>time_signature</th>\n",
       "      <th>chorus_hit</th>\n",
       "      <th>sections</th>\n",
       "      <th>hit_song</th>\n",
       "      <th>decade</th>\n",
       "    </tr>\n",
       "  </thead>\n",
       "  <tbody>\n",
       "    <tr>\n",
       "      <th>0</th>\n",
       "      <td>Jealous Kind Of Fella</td>\n",
       "      <td>Garland Green</td>\n",
       "      <td>spotify:track:1dtKN6wwlolkM8XZy2y9C1</td>\n",
       "      <td>0.417</td>\n",
       "      <td>0.620</td>\n",
       "      <td>3</td>\n",
       "      <td>-7.727</td>\n",
       "      <td>1</td>\n",
       "      <td>0.0403</td>\n",
       "      <td>0.490</td>\n",
       "      <td>0.000000</td>\n",
       "      <td>0.0779</td>\n",
       "      <td>0.845</td>\n",
       "      <td>185.655</td>\n",
       "      <td>173533</td>\n",
       "      <td>3</td>\n",
       "      <td>32.94975</td>\n",
       "      <td>9</td>\n",
       "      <td>1</td>\n",
       "      <td>60s</td>\n",
       "    </tr>\n",
       "    <tr>\n",
       "      <th>1</th>\n",
       "      <td>Initials B.B.</td>\n",
       "      <td>Serge Gainsbourg</td>\n",
       "      <td>spotify:track:5hjsmSnUefdUqzsDogisiX</td>\n",
       "      <td>0.498</td>\n",
       "      <td>0.505</td>\n",
       "      <td>3</td>\n",
       "      <td>-12.475</td>\n",
       "      <td>1</td>\n",
       "      <td>0.0337</td>\n",
       "      <td>0.018</td>\n",
       "      <td>0.107000</td>\n",
       "      <td>0.1760</td>\n",
       "      <td>0.797</td>\n",
       "      <td>101.801</td>\n",
       "      <td>213613</td>\n",
       "      <td>4</td>\n",
       "      <td>48.82510</td>\n",
       "      <td>10</td>\n",
       "      <td>0</td>\n",
       "      <td>60s</td>\n",
       "    </tr>\n",
       "    <tr>\n",
       "      <th>2</th>\n",
       "      <td>Melody Twist</td>\n",
       "      <td>Lord Melody</td>\n",
       "      <td>spotify:track:6uk8tI6pwxxdVTNlNOJeJh</td>\n",
       "      <td>0.657</td>\n",
       "      <td>0.649</td>\n",
       "      <td>5</td>\n",
       "      <td>-13.392</td>\n",
       "      <td>1</td>\n",
       "      <td>0.0380</td>\n",
       "      <td>0.846</td>\n",
       "      <td>0.000004</td>\n",
       "      <td>0.1190</td>\n",
       "      <td>0.908</td>\n",
       "      <td>115.940</td>\n",
       "      <td>223960</td>\n",
       "      <td>4</td>\n",
       "      <td>37.22663</td>\n",
       "      <td>12</td>\n",
       "      <td>0</td>\n",
       "      <td>60s</td>\n",
       "    </tr>\n",
       "    <tr>\n",
       "      <th>3</th>\n",
       "      <td>Mi Bomba Sonó</td>\n",
       "      <td>Celia Cruz</td>\n",
       "      <td>spotify:track:7aNjMJ05FvUXACPWZ7yJmv</td>\n",
       "      <td>0.590</td>\n",
       "      <td>0.545</td>\n",
       "      <td>7</td>\n",
       "      <td>-12.058</td>\n",
       "      <td>0</td>\n",
       "      <td>0.1040</td>\n",
       "      <td>0.706</td>\n",
       "      <td>0.024600</td>\n",
       "      <td>0.0610</td>\n",
       "      <td>0.967</td>\n",
       "      <td>105.592</td>\n",
       "      <td>157907</td>\n",
       "      <td>4</td>\n",
       "      <td>24.75484</td>\n",
       "      <td>8</td>\n",
       "      <td>0</td>\n",
       "      <td>60s</td>\n",
       "    </tr>\n",
       "    <tr>\n",
       "      <th>4</th>\n",
       "      <td>Uravu Solla</td>\n",
       "      <td>P. Susheela</td>\n",
       "      <td>spotify:track:1rQ0clvgkzWr001POOPJWx</td>\n",
       "      <td>0.515</td>\n",
       "      <td>0.765</td>\n",
       "      <td>11</td>\n",
       "      <td>-3.515</td>\n",
       "      <td>0</td>\n",
       "      <td>0.1240</td>\n",
       "      <td>0.857</td>\n",
       "      <td>0.000872</td>\n",
       "      <td>0.2130</td>\n",
       "      <td>0.906</td>\n",
       "      <td>114.617</td>\n",
       "      <td>245600</td>\n",
       "      <td>4</td>\n",
       "      <td>21.79874</td>\n",
       "      <td>14</td>\n",
       "      <td>0</td>\n",
       "      <td>60s</td>\n",
       "    </tr>\n",
       "  </tbody>\n",
       "</table>\n",
       "</div>"
      ],
      "text/plain": [
       "                   track            artist  \\\n",
       "0  Jealous Kind Of Fella     Garland Green   \n",
       "1          Initials B.B.  Serge Gainsbourg   \n",
       "2           Melody Twist       Lord Melody   \n",
       "3          Mi Bomba Sonó        Celia Cruz   \n",
       "4            Uravu Solla       P. Susheela   \n",
       "\n",
       "                                    uri  danceability  energy  key  loudness  \\\n",
       "0  spotify:track:1dtKN6wwlolkM8XZy2y9C1         0.417   0.620    3    -7.727   \n",
       "1  spotify:track:5hjsmSnUefdUqzsDogisiX         0.498   0.505    3   -12.475   \n",
       "2  spotify:track:6uk8tI6pwxxdVTNlNOJeJh         0.657   0.649    5   -13.392   \n",
       "3  spotify:track:7aNjMJ05FvUXACPWZ7yJmv         0.590   0.545    7   -12.058   \n",
       "4  spotify:track:1rQ0clvgkzWr001POOPJWx         0.515   0.765   11    -3.515   \n",
       "\n",
       "   mode  speechiness  acousticness  instrumentalness  liveness  valence  \\\n",
       "0     1       0.0403         0.490          0.000000    0.0779    0.845   \n",
       "1     1       0.0337         0.018          0.107000    0.1760    0.797   \n",
       "2     1       0.0380         0.846          0.000004    0.1190    0.908   \n",
       "3     0       0.1040         0.706          0.024600    0.0610    0.967   \n",
       "4     0       0.1240         0.857          0.000872    0.2130    0.906   \n",
       "\n",
       "     tempo  duration_ms  time_signature  chorus_hit  sections  hit_song decade  \n",
       "0  185.655       173533               3    32.94975         9         1    60s  \n",
       "1  101.801       213613               4    48.82510        10         0    60s  \n",
       "2  115.940       223960               4    37.22663        12         0    60s  \n",
       "3  105.592       157907               4    24.75484         8         0    60s  \n",
       "4  114.617       245600               4    21.79874        14         0    60s  "
      ]
     },
     "execution_count": 4,
     "metadata": {},
     "output_type": "execute_result"
    }
   ],
   "source": [
    "songs.head()"
   ]
  },
  {
   "cell_type": "code",
   "execution_count": 6,
   "metadata": {},
   "outputs": [],
   "source": [
    "songs_clean = pd.get_dummies(songs.drop(['track', 'artist', 'uri'], axis = 1))"
   ]
  },
  {
   "cell_type": "code",
   "execution_count": 7,
   "metadata": {},
   "outputs": [
    {
     "name": "stdout",
     "output_type": "stream",
     "text": [
      "<class 'pandas.core.frame.DataFrame'>\n",
      "RangeIndex: 41106 entries, 0 to 41105\n",
      "Data columns (total 22 columns):\n",
      " #   Column            Non-Null Count  Dtype  \n",
      "---  ------            --------------  -----  \n",
      " 0   danceability      41106 non-null  float64\n",
      " 1   energy            41106 non-null  float64\n",
      " 2   key               41106 non-null  int64  \n",
      " 3   loudness          41106 non-null  float64\n",
      " 4   mode              41106 non-null  int64  \n",
      " 5   speechiness       41106 non-null  float64\n",
      " 6   acousticness      41106 non-null  float64\n",
      " 7   instrumentalness  41106 non-null  float64\n",
      " 8   liveness          41106 non-null  float64\n",
      " 9   valence           41106 non-null  float64\n",
      " 10  tempo             41106 non-null  float64\n",
      " 11  duration_ms       41106 non-null  int64  \n",
      " 12  time_signature    41106 non-null  int64  \n",
      " 13  chorus_hit        41106 non-null  float64\n",
      " 14  sections          41106 non-null  int64  \n",
      " 15  hit_song          41106 non-null  int64  \n",
      " 16  decade_00s        41106 non-null  uint8  \n",
      " 17  decade_10s        41106 non-null  uint8  \n",
      " 18  decade_60s        41106 non-null  uint8  \n",
      " 19  decade_70s        41106 non-null  uint8  \n",
      " 20  decade_80s        41106 non-null  uint8  \n",
      " 21  decade_90s        41106 non-null  uint8  \n",
      "dtypes: float64(10), int64(6), uint8(6)\n",
      "memory usage: 5.3 MB\n"
     ]
    }
   ],
   "source": [
    "songs_clean.info()"
   ]
  },
  {
   "cell_type": "code",
   "execution_count": 8,
   "metadata": {},
   "outputs": [],
   "source": [
    "from sklearn.cluster import KMeans, AgglomerativeClustering\n",
    "from sklearn.metrics import silhouette_score"
   ]
  },
  {
   "cell_type": "code",
   "execution_count": 9,
   "metadata": {},
   "outputs": [],
   "source": [
    "from sklearn.preprocessing import StandardScaler\n",
    "from sklearn.pipeline import make_pipeline\n",
    "from sklearn.model_selection import GridSearchCV"
   ]
  },
  {
   "cell_type": "code",
   "execution_count": 10,
   "metadata": {},
   "outputs": [],
   "source": [
    "kmeans_pipe = make_pipeline(StandardScaler(), KMeans())"
   ]
  },
  {
   "cell_type": "code",
   "execution_count": 12,
   "metadata": {},
   "outputs": [
    {
     "data": {
      "text/plain": [
       "Pipeline(steps=[('standardscaler', StandardScaler()), ('kmeans', KMeans())])"
      ]
     },
     "execution_count": 12,
     "metadata": {},
     "output_type": "execute_result"
    }
   ],
   "source": [
    "kmeans_pipe.fit(songs_clean)"
   ]
  },
  {
   "cell_type": "code",
   "execution_count": 14,
   "metadata": {},
   "outputs": [],
   "source": [
    "songs_clean['cluster_label'] = kmeans_pipe.named_steps['kmeans'].labels_"
   ]
  },
  {
   "cell_type": "code",
   "execution_count": 15,
   "metadata": {},
   "outputs": [],
   "source": [
    "import matplotlib.pyplot as plt "
   ]
  },
  {
   "cell_type": "code",
   "execution_count": 16,
   "metadata": {},
   "outputs": [],
   "source": [
    "import seaborn as sns"
   ]
  },
  {
   "cell_type": "code",
   "execution_count": 20,
   "metadata": {},
   "outputs": [
    {
     "data": {
      "text/plain": [
       "<seaborn.axisgrid.FacetGrid at 0x7fbc4138b520>"
      ]
     },
     "execution_count": 20,
     "metadata": {},
     "output_type": "execute_result"
    },
    {
     "data": {
      "image/png": "[encoded data removed]",
      "text/plain": [
       "<Figure size 431.375x360 with 1 Axes>"
      ]
     },
     "metadata": {
      "needs_background": "light"
     },
     "output_type": "display_data"
    }
   ],
   "source": [
    "sns.displot(x='danceability', data = songs_clean, hue = 'cluster_label')"
   ]
  },
  {
   "cell_type": "code",
   "execution_count": 22,
   "metadata": {},
   "outputs": [
    {
     "data": {
      "text/plain": [
       "<AxesSubplot:xlabel='cluster_label'>"
      ]
     },
     "execution_count": 22,
     "metadata": {},
     "output_type": "execute_result"
    },
    {
     "data": {
      "image/png": "[encoded data removed]",
      "text/plain": [
       "<Figure size 432x288 with 1 Axes>"
      ]
     },
     "metadata": {
      "needs_background": "light"
     },
     "output_type": "display_data"
    }
   ],
   "source": [
    "songs_clean.groupby('cluster_label')['energy'].mean().plot(kind = 'bar')"
   ]
  },
  {
   "cell_type": "code",
   "execution_count": 48,
   "metadata": {},
   "outputs": [],
   "source": [
    "kmeans_pipe = make_pipeline(StandardScaler(), KMeans())\n",
    "params = {'kmeans__n_clusters': range(10, 20)}"
   ]
  },
  {
   "cell_type": "code",
   "execution_count": 49,
   "metadata": {},
   "outputs": [],
   "source": [
    "kmeans_grid = GridSearchCV(kmeans_pipe, param_grid=params)"
   ]
  },
  {
   "cell_type": "code",
   "execution_count": 50,
   "metadata": {},
   "outputs": [
    {
     "data": {
      "text/plain": [
       "GridSearchCV(estimator=Pipeline(steps=[('standardscaler', StandardScaler()),\n",
       "                                       ('kmeans', KMeans())]),\n",
       "             param_grid={'kmeans__n_clusters': range(10, 20)})"
      ]
     },
     "execution_count": 50,
     "metadata": {},
     "output_type": "execute_result"
    }
   ],
   "source": [
    "kmeans_grid.fit(songs_clean)"
   ]
  },
  {
   "cell_type": "code",
   "execution_count": 51,
   "metadata": {},
   "outputs": [
    {
     "data": {
      "text/plain": [
       "{'kmeans__n_clusters': 19}"
      ]
     },
     "execution_count": 51,
     "metadata": {},
     "output_type": "execute_result"
    }
   ],
   "source": [
    "kmeans_grid.best_params_"
   ]
  },
  {
   "cell_type": "code",
   "execution_count": 55,
   "metadata": {},
   "outputs": [],
   "source": [
    "songs_clean['cluster_label'] = kmeans_grid.predict(songs_clean)"
   ]
  },
  {
   "cell_type": "code",
   "execution_count": 56,
   "metadata": {},
   "outputs": [
    {
     "data": {
      "text/plain": [
       "<AxesSubplot:xlabel='cluster_label'>"
      ]
     },
     "execution_count": 56,
     "metadata": {},
     "output_type": "execute_result"
    },
    {
     "data": {
      "image/png": "[encoded data removed]",
      "text/plain": [
       "<Figure size 432x288 with 1 Axes>"
      ]
     },
     "metadata": {
      "needs_background": "light"
     },
     "output_type": "display_data"
    }
   ],
   "source": [
    "songs_clean.groupby('cluster_label')['energy'].size().plot(kind = 'bar')"
   ]
  },
  {
   "cell_type": "code",
   "execution_count": 59,
   "metadata": {},
   "outputs": [
    {
     "data": {
      "text/html": [
       "<div>\n",
       "<style scoped>\n",
       "    .dataframe tbody tr th:only-of-type {\n",
       "        vertical-align: middle;\n",
       "    }\n",
       "\n",
       "    .dataframe tbody tr th {\n",
       "        vertical-align: top;\n",
       "    }\n",
       "\n",
       "    .dataframe thead th {\n",
       "        text-align: right;\n",
       "    }\n",
       "</style>\n",
       "<table border=\"1\" class=\"dataframe\">\n",
       "  <thead>\n",
       "    <tr style=\"text-align: right;\">\n",
       "      <th></th>\n",
       "      <th>track</th>\n",
       "      <th>artist</th>\n",
       "      <th>uri</th>\n",
       "      <th>danceability</th>\n",
       "      <th>energy</th>\n",
       "      <th>key</th>\n",
       "      <th>loudness</th>\n",
       "      <th>mode</th>\n",
       "      <th>speechiness</th>\n",
       "      <th>acousticness</th>\n",
       "      <th>instrumentalness</th>\n",
       "      <th>liveness</th>\n",
       "      <th>valence</th>\n",
       "      <th>tempo</th>\n",
       "      <th>duration_ms</th>\n",
       "      <th>time_signature</th>\n",
       "      <th>chorus_hit</th>\n",
       "      <th>sections</th>\n",
       "      <th>hit_song</th>\n",
       "      <th>decade</th>\n",
       "    </tr>\n",
       "  </thead>\n",
       "  <tbody>\n",
       "    <tr>\n",
       "      <th>41083</th>\n",
       "      <td>Mess</td>\n",
       "      <td>Real Friends</td>\n",
       "      <td>spotify:track:5mcnyvVNv4MVtHA6YL6hJu</td>\n",
       "      <td>0.508</td>\n",
       "      <td>0.920</td>\n",
       "      <td>1</td>\n",
       "      <td>-4.387</td>\n",
       "      <td>1</td>\n",
       "      <td>0.0489</td>\n",
       "      <td>0.000007</td>\n",
       "      <td>0.864000</td>\n",
       "      <td>0.0853</td>\n",
       "      <td>0.699</td>\n",
       "      <td>90.027</td>\n",
       "      <td>188493</td>\n",
       "      <td>4</td>\n",
       "      <td>50.45824</td>\n",
       "      <td>8</td>\n",
       "      <td>0</td>\n",
       "      <td>10s</td>\n",
       "    </tr>\n",
       "    <tr>\n",
       "      <th>41084</th>\n",
       "      <td>Metal Militia</td>\n",
       "      <td>Exmortem</td>\n",
       "      <td>spotify:track:5f9cC3ZiiGcf2hq4L2DWyF</td>\n",
       "      <td>0.300</td>\n",
       "      <td>0.983</td>\n",
       "      <td>5</td>\n",
       "      <td>-5.809</td>\n",
       "      <td>0</td>\n",
       "      <td>0.0816</td>\n",
       "      <td>0.000244</td>\n",
       "      <td>0.771000</td>\n",
       "      <td>0.2580</td>\n",
       "      <td>0.347</td>\n",
       "      <td>109.517</td>\n",
       "      <td>247960</td>\n",
       "      <td>4</td>\n",
       "      <td>15.58687</td>\n",
       "      <td>9</td>\n",
       "      <td>0</td>\n",
       "      <td>10s</td>\n",
       "    </tr>\n",
       "    <tr>\n",
       "      <th>41086</th>\n",
       "      <td>Metal Blessing (Live 2002)</td>\n",
       "      <td>Mortification</td>\n",
       "      <td>spotify:track:0Y0L0JE5HiTAKyWSkKusb7</td>\n",
       "      <td>0.271</td>\n",
       "      <td>0.982</td>\n",
       "      <td>7</td>\n",
       "      <td>-4.295</td>\n",
       "      <td>1</td>\n",
       "      <td>0.1210</td>\n",
       "      <td>0.000258</td>\n",
       "      <td>0.004530</td>\n",
       "      <td>0.5860</td>\n",
       "      <td>0.117</td>\n",
       "      <td>154.692</td>\n",
       "      <td>232867</td>\n",
       "      <td>4</td>\n",
       "      <td>82.72886</td>\n",
       "      <td>9</td>\n",
       "      <td>0</td>\n",
       "      <td>10s</td>\n",
       "    </tr>\n",
       "    <tr>\n",
       "      <th>41087</th>\n",
       "      <td>Trash - The London Suede Version</td>\n",
       "      <td>The London Suede</td>\n",
       "      <td>spotify:track:47VqgHgXvn4Cx2RVeQq2Tk</td>\n",
       "      <td>0.439</td>\n",
       "      <td>0.993</td>\n",
       "      <td>11</td>\n",
       "      <td>-2.923</td>\n",
       "      <td>1</td>\n",
       "      <td>0.1000</td>\n",
       "      <td>0.000937</td>\n",
       "      <td>0.000063</td>\n",
       "      <td>0.2850</td>\n",
       "      <td>0.157</td>\n",
       "      <td>124.609</td>\n",
       "      <td>245947</td>\n",
       "      <td>4</td>\n",
       "      <td>81.97844</td>\n",
       "      <td>9</td>\n",
       "      <td>0</td>\n",
       "      <td>10s</td>\n",
       "    </tr>\n",
       "    <tr>\n",
       "      <th>41092</th>\n",
       "      <td>Gimme D' Road - Carnival Mix</td>\n",
       "      <td>Calypso Rose</td>\n",
       "      <td>spotify:track:6Yk1qYbmPKdoqNrHYRFc9c</td>\n",
       "      <td>0.395</td>\n",
       "      <td>0.927</td>\n",
       "      <td>4</td>\n",
       "      <td>-4.418</td>\n",
       "      <td>1</td>\n",
       "      <td>0.1650</td>\n",
       "      <td>0.116000</td>\n",
       "      <td>0.000000</td>\n",
       "      <td>0.4410</td>\n",
       "      <td>0.941</td>\n",
       "      <td>188.384</td>\n",
       "      <td>191905</td>\n",
       "      <td>3</td>\n",
       "      <td>68.27089</td>\n",
       "      <td>8</td>\n",
       "      <td>0</td>\n",
       "      <td>10s</td>\n",
       "    </tr>\n",
       "    <tr>\n",
       "      <th>41097</th>\n",
       "      <td>What Now</td>\n",
       "      <td>Rihanna</td>\n",
       "      <td>spotify:track:0aUWfpD3PlSv3FTTKcT2rN</td>\n",
       "      <td>0.402</td>\n",
       "      <td>0.696</td>\n",
       "      <td>8</td>\n",
       "      <td>-4.799</td>\n",
       "      <td>0</td>\n",
       "      <td>0.0448</td>\n",
       "      <td>0.047600</td>\n",
       "      <td>0.000000</td>\n",
       "      <td>0.6280</td>\n",
       "      <td>0.227</td>\n",
       "      <td>180.158</td>\n",
       "      <td>243093</td>\n",
       "      <td>3</td>\n",
       "      <td>31.53643</td>\n",
       "      <td>11</td>\n",
       "      <td>1</td>\n",
       "      <td>10s</td>\n",
       "    </tr>\n",
       "  </tbody>\n",
       "</table>\n",
       "</div>"
      ],
      "text/plain": [
       "                                  track            artist  \\\n",
       "41083                              Mess      Real Friends   \n",
       "41084                     Metal Militia          Exmortem   \n",
       "41086        Metal Blessing (Live 2002)     Mortification   \n",
       "41087  Trash - The London Suede Version  The London Suede   \n",
       "41092      Gimme D' Road - Carnival Mix      Calypso Rose   \n",
       "41097                          What Now           Rihanna   \n",
       "\n",
       "                                        uri  danceability  energy  key  \\\n",
       "41083  spotify:track:5mcnyvVNv4MVtHA6YL6hJu         0.508   0.920    1   \n",
       "41084  spotify:track:5f9cC3ZiiGcf2hq4L2DWyF         0.300   0.983    5   \n",
       "41086  spotify:track:0Y0L0JE5HiTAKyWSkKusb7         0.271   0.982    7   \n",
       "41087  spotify:track:47VqgHgXvn4Cx2RVeQq2Tk         0.439   0.993   11   \n",
       "41092  spotify:track:6Yk1qYbmPKdoqNrHYRFc9c         0.395   0.927    4   \n",
       "41097  spotify:track:0aUWfpD3PlSv3FTTKcT2rN         0.402   0.696    8   \n",
       "\n",
       "       loudness  mode  speechiness  acousticness  instrumentalness  liveness  \\\n",
       "41083    -4.387     1       0.0489      0.000007          0.864000    0.0853   \n",
       "41084    -5.809     0       0.0816      0.000244          0.771000    0.2580   \n",
       "41086    -4.295     1       0.1210      0.000258          0.004530    0.5860   \n",
       "41087    -2.923     1       0.1000      0.000937          0.000063    0.2850   \n",
       "41092    -4.418     1       0.1650      0.116000          0.000000    0.4410   \n",
       "41097    -4.799     0       0.0448      0.047600          0.000000    0.6280   \n",
       "\n",
       "       valence    tempo  duration_ms  time_signature  chorus_hit  sections  \\\n",
       "41083    0.699   90.027       188493               4    50.45824         8   \n",
       "41084    0.347  109.517       247960               4    15.58687         9   \n",
       "41086    0.117  154.692       232867               4    82.72886         9   \n",
       "41087    0.157  124.609       245947               4    81.97844         9   \n",
       "41092    0.941  188.384       191905               3    68.27089         8   \n",
       "41097    0.227  180.158       243093               3    31.53643        11   \n",
       "\n",
       "       hit_song decade  \n",
       "41083         0    10s  \n",
       "41084         0    10s  \n",
       "41086         0    10s  \n",
       "41087         0    10s  \n",
       "41092         0    10s  \n",
       "41097         1    10s  "
      ]
     },
     "execution_count": 59,
     "metadata": {},
     "output_type": "execute_result"
    }
   ],
   "source": [
    "songs.iloc[songs_clean[songs_clean['cluster_label'] == 4].index].tail(6)"
   ]
  },
  {
   "cell_type": "code",
   "execution_count": 60,
   "metadata": {},
   "outputs": [],
   "source": [
    "songs.to_csv('songs_clustered.csv')"
   ]
  },
  {
   "cell_type": "code",
   "execution_count": null,
   "metadata": {},
   "outputs": [],
   "source": []
  }
 ],
 "metadata": {
  "kernelspec": {
   "display_name": "Python 3",
   "language": "python",
   "name": "python3"
  },
  "language_info": {
   "codemirror_mode": {
    "name": "ipython",
    "version": 3
   },
   "file_extension": ".py",
   "mimetype": "text/x-python",
   "name": "python",
   "nbconvert_exporter": "python",
   "pygments_lexer": "ipython3",
   "version": "3.8.2"
  }
 },
 "nbformat": 4,
 "nbformat_minor": 4
}
